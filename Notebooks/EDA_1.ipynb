{
 "cells": [
  {
   "cell_type": "code",
   "execution_count": 3,
   "metadata": {},
   "outputs": [],
   "source": [
    "import pandas as pd\n"
   ]
  },
  {
   "attachments": {},
   "cell_type": "markdown",
   "metadata": {},
   "source": [
    "----\n",
    "Reading .csvs downloaded from https://www.tsb.gc.ca/eng/stats/rail/data-5.html  \n",
    "### Occurrence  \n",
    "This table contains the following types of data:\n",
    "\n",
    "- Occurrence summary data, including a brief description of the occurrence.\n",
    "- Notification data, including the date and time that the occurrence was reported.\n",
    "- Track infrastructure data, including track type, owner of the track, and track inspection history.\n",
    "- Rail data, including rail type, metallurgy, manufacturer, date installed, rail wear, and rail defects.\n",
    "- Tie plates / turnout data, including tie plate type, track fastener type, tie size, number of ties, turnout/switch type, and turnout installation date.\n",
    "- Track geometry data, including track curvature, gradient, ballast type, subgrade type, shoulder width, and track structure type.\n",
    "- Environmental conditions data, including temperature, wind, precipitation, sky condition, visibility obstructions, and ground conditions.\n",
    "- Area evacuation data, including number of people evacuated, who initiated the evacuation, agencies involved, isolation radius, and emergency response - information.\n",
    "- Crossing accident data, including crossing location, crossing type, impact type, daily train traffic, daily vehicle traffic, angle of crossing, sightline information, gradient of crossing, road speed, and other protection (e.g., whistling, flagman).\n",
    "- Grade crossing warning system (GCWS) data, including status of GCWS, special features, design speed, and GCWS test date.\n",
    "- Vehicle data, including number of vehicles, action of the vehicle driver, number of occupants in the vehicle, visibility at the crossing for the vehicle driver, and any dangerous goods carried in the vehicle"
   ]
  },
  {
   "attachments": {},
   "cell_type": "markdown",
   "metadata": {},
   "source": [
    "### Train  \n",
    "This table contains the following types of data:\n",
    "\n",
    "- Train data, including train type, train operator, train speed, method of train control, number of cars, train length, and train weight.\n",
    "- Train operation data, including authorized speed, signal indication, method of main track authorization, movement control type, event recorder indicators, and crew assignment origin/destination.\n",
    "- Signals data, including signal number, signal type, signal application, and details on wayside devices."
   ]
  },
  {
   "attachments": {},
   "cell_type": "markdown",
   "metadata": {},
   "source": [
    "### Rolling stock\n",
    "\n",
    "This table contains the following types of data\n",
    "\n",
    "- Rolling stock data, including rolling stock type, position in the train, derailed indicator, car load status, dangerous goods indicator, and fuel lost from locomotive.\n",
    "- Rolling stock details data, including sill type, brake beam type, handbrake type, draft gear type, axle size, wheel type, and car inspection details.\n",
    "- Cargo data, including product name, quantity carried, products released, release location on car, release type, release quantity, and tank car test dates.\n",
    "- Crashworthiness data, including construction material, location of damage, decrease in internal volume, position of the derailed rolling stock, and evacuation/egress from the rolling stock."
   ]
  },
  {
   "attachments": {},
   "cell_type": "markdown",
   "metadata": {},
   "source": [
    "### Injuries  \n",
    "This table contains the following types of data:\n",
    "\n",
    "- Injuries (On-train) data, including injuries and/or fatalities for people who were on the train.\n",
    "- Injuries (Off-train) data, including injuries and/or fatalities for people who were NOT on the train."
   ]
  },
  {
   "attachments": {},
   "cell_type": "markdown",
   "metadata": {},
   "source": [
    "### Track and Rolling stock components  \n",
    "\n",
    "This table contains data on various track components and rolling stock components, including manufacturer, model/part information, date of manufacturing, and date of last overhaul."
   ]
  },
  {
   "cell_type": "code",
   "execution_count": 6,
   "metadata": {},
   "outputs": [],
   "source": [
    "# compoents not used\n",
    "# train used\n",
    "# occurrences used\n",
    "# rolling stock not used\n",
    "# injuries not used"
   ]
  },
  {
   "cell_type": "code",
   "execution_count": 7,
   "metadata": {},
   "outputs": [],
   "source": [
    "df_occurrences = pd.read_csv('../TC_Data/RODSdb_MDOTW_VW_OCCURRENCE_PUBLIC.csv',low_memory=False)\n",
    "df_train = pd.read_csv('../TC_Data/RODSdb_MDOTW_VW_TRAIN_PUBLIC.csv',low_memory=False)\n",
    "df_rolling_stock = pd.read_csv('../TC_Data/RODSdb_MDOTW_VW_ROLLING_STOCK_PUBLIC.csv',low_memory=False)\n",
    "df_injuries = pd.read_csv('../TC_Data/RODSdb_MDOTW_VW_INJURIES_PUBLIC.csv',low_memory=False)\n",
    "df_components = pd.read_csv('../TC_Data/RODSdb_MDOTW_VW_COMPONENTS_PUBLIC.csv',low_memory=False)\n",
    "\n",
    "###########\n",
    "# reading the csv that has the discription of the columns in the csvs\n",
    "# was getting this error ' 'utf-8' codec can't decode byte 0x93 in position 47142: invalid start byte'\n",
    "df_disc = pd.read_csv('../TC_Data/RODSdb-dd.csv',encoding='unicode_escape')"
   ]
  },
  {
   "attachments": {},
   "cell_type": "markdown",
   "metadata": {},
   "source": [
    "### Grade crossing dataset and data dictionary\n",
    "Source: https://open.canada.ca/data/en/dataset/d0f54727-6c0b-4e5a-aa04-ea1463cf9f4c"
   ]
  },
  {
   "cell_type": "code",
   "execution_count": 8,
   "metadata": {},
   "outputs": [],
   "source": [
    "df_gc_dd = pd.read_excel('../TC_Data/grade_crossing_inventory_data_dictionary.xls')\n",
    "df_gc = pd.read_excel('../TC_Data/grade_crossings_inventory_-_rail_safety_dataset_en.xlsx')"
   ]
  },
  {
   "cell_type": "markdown",
   "metadata": {},
   "source": [
    "### EDA"
   ]
  },
  {
   "cell_type": "code",
   "execution_count": 9,
   "metadata": {},
   "outputs": [
    {
     "data": {
      "text/plain": [
       "0    24557\n",
       "1      551\n",
       "2       41\n",
       "3        5\n",
       "4        1\n",
       "Name: Accident, dtype: int64"
      ]
     },
     "execution_count": 9,
     "metadata": {},
     "output_type": "execute_result"
    }
   ],
   "source": [
    "accident_count = df_gc['Accident'].astype(int)\n",
    "accident_count.value_counts()"
   ]
  },
  {
   "cell_type": "code",
   "execution_count": 10,
   "metadata": {},
   "outputs": [
    {
     "data": {
      "text/html": [
       "<div>\n",
       "<style scoped>\n",
       "    .dataframe tbody tr th:only-of-type {\n",
       "        vertical-align: middle;\n",
       "    }\n",
       "\n",
       "    .dataframe tbody tr th {\n",
       "        vertical-align: top;\n",
       "    }\n",
       "\n",
       "    .dataframe thead th {\n",
       "        text-align: right;\n",
       "    }\n",
       "</style>\n",
       "<table border=\"1\" class=\"dataframe\">\n",
       "  <thead>\n",
       "    <tr style=\"text-align: right;\">\n",
       "      <th></th>\n",
       "      <th>OccID</th>\n",
       "      <th>OccNo</th>\n",
       "      <th>OccClassID</th>\n",
       "      <th>OccClassID_DisplayEng</th>\n",
       "      <th>OccClassID_DisplayFre</th>\n",
       "      <th>OccDate</th>\n",
       "      <th>OccYear</th>\n",
       "      <th>OccTime</th>\n",
       "      <th>TimeZoneID</th>\n",
       "      <th>TimeZoneID_DisplayEng</th>\n",
       "      <th>...</th>\n",
       "      <th>SignConditionID_DisplayEng</th>\n",
       "      <th>SignConditionID_DisplayFre</th>\n",
       "      <th>PointOfEntryID</th>\n",
       "      <th>PointOfEntryID_DisplayEng</th>\n",
       "      <th>PointOfEntryID_DisplayFre</th>\n",
       "      <th>DistanceToCrossing_Miles</th>\n",
       "      <th>TrespasserVehicleInvolvedInd</th>\n",
       "      <th>TrespasserVehicleTypeID</th>\n",
       "      <th>TrespasserVehicleTypeDisplayEng</th>\n",
       "      <th>TrespasserVehicleTypeDisplayFre</th>\n",
       "    </tr>\n",
       "  </thead>\n",
       "  <tbody>\n",
       "    <tr>\n",
       "      <th>4</th>\n",
       "      <td>133084</td>\n",
       "      <td>R23E0022</td>\n",
       "      <td>5</td>\n",
       "      <td>5</td>\n",
       "      <td>5</td>\n",
       "      <td>3/8/2023 9:30:00 PM</td>\n",
       "      <td>2023</td>\n",
       "      <td>2130.0</td>\n",
       "      <td>10.0</td>\n",
       "      <td>MST</td>\n",
       "      <td>...</td>\n",
       "      <td>NaN</td>\n",
       "      <td>NaN</td>\n",
       "      <td>NaN</td>\n",
       "      <td>NaN</td>\n",
       "      <td>NaN</td>\n",
       "      <td>NaN</td>\n",
       "      <td>NaN</td>\n",
       "      <td>NaN</td>\n",
       "      <td>NaN</td>\n",
       "      <td>NaN</td>\n",
       "    </tr>\n",
       "    <tr>\n",
       "      <th>29</th>\n",
       "      <td>133054</td>\n",
       "      <td>R23T0048</td>\n",
       "      <td>5</td>\n",
       "      <td>5</td>\n",
       "      <td>5</td>\n",
       "      <td>3/2/2023 8:31:00 AM</td>\n",
       "      <td>2023</td>\n",
       "      <td>831.0</td>\n",
       "      <td>2.0</td>\n",
       "      <td>EST</td>\n",
       "      <td>...</td>\n",
       "      <td>NaN</td>\n",
       "      <td>NaN</td>\n",
       "      <td>NaN</td>\n",
       "      <td>NaN</td>\n",
       "      <td>NaN</td>\n",
       "      <td>NaN</td>\n",
       "      <td>NaN</td>\n",
       "      <td>NaN</td>\n",
       "      <td>NaN</td>\n",
       "      <td>NaN</td>\n",
       "    </tr>\n",
       "    <tr>\n",
       "      <th>33</th>\n",
       "      <td>133050</td>\n",
       "      <td>R23V0046</td>\n",
       "      <td>5</td>\n",
       "      <td>5</td>\n",
       "      <td>5</td>\n",
       "      <td>2/27/2023 8:00:00 AM</td>\n",
       "      <td>2023</td>\n",
       "      <td>800.0</td>\n",
       "      <td>7.0</td>\n",
       "      <td>PST</td>\n",
       "      <td>...</td>\n",
       "      <td>NaN</td>\n",
       "      <td>NaN</td>\n",
       "      <td>NaN</td>\n",
       "      <td>NaN</td>\n",
       "      <td>NaN</td>\n",
       "      <td>NaN</td>\n",
       "      <td>NaN</td>\n",
       "      <td>NaN</td>\n",
       "      <td>NaN</td>\n",
       "      <td>NaN</td>\n",
       "    </tr>\n",
       "    <tr>\n",
       "      <th>38</th>\n",
       "      <td>133044</td>\n",
       "      <td>R23E0018</td>\n",
       "      <td>5</td>\n",
       "      <td>5</td>\n",
       "      <td>5</td>\n",
       "      <td>2/26/2023 10:40:00 PM</td>\n",
       "      <td>2023</td>\n",
       "      <td>2240.0</td>\n",
       "      <td>10.0</td>\n",
       "      <td>MST</td>\n",
       "      <td>...</td>\n",
       "      <td>NaN</td>\n",
       "      <td>NaN</td>\n",
       "      <td>NaN</td>\n",
       "      <td>NaN</td>\n",
       "      <td>NaN</td>\n",
       "      <td>NaN</td>\n",
       "      <td>NaN</td>\n",
       "      <td>NaN</td>\n",
       "      <td>NaN</td>\n",
       "      <td>NaN</td>\n",
       "    </tr>\n",
       "    <tr>\n",
       "      <th>40</th>\n",
       "      <td>133042</td>\n",
       "      <td>R23E0017</td>\n",
       "      <td>5</td>\n",
       "      <td>5</td>\n",
       "      <td>5</td>\n",
       "      <td>2/26/2023 12:45:00 PM</td>\n",
       "      <td>2023</td>\n",
       "      <td>1245.0</td>\n",
       "      <td>10.0</td>\n",
       "      <td>MST</td>\n",
       "      <td>...</td>\n",
       "      <td>NaN</td>\n",
       "      <td>NaN</td>\n",
       "      <td>NaN</td>\n",
       "      <td>NaN</td>\n",
       "      <td>NaN</td>\n",
       "      <td>NaN</td>\n",
       "      <td>NaN</td>\n",
       "      <td>NaN</td>\n",
       "      <td>NaN</td>\n",
       "      <td>NaN</td>\n",
       "    </tr>\n",
       "    <tr>\n",
       "      <th>...</th>\n",
       "      <td>...</td>\n",
       "      <td>...</td>\n",
       "      <td>...</td>\n",
       "      <td>...</td>\n",
       "      <td>...</td>\n",
       "      <td>...</td>\n",
       "      <td>...</td>\n",
       "      <td>...</td>\n",
       "      <td>...</td>\n",
       "      <td>...</td>\n",
       "      <td>...</td>\n",
       "      <td>...</td>\n",
       "      <td>...</td>\n",
       "      <td>...</td>\n",
       "      <td>...</td>\n",
       "      <td>...</td>\n",
       "      <td>...</td>\n",
       "      <td>...</td>\n",
       "      <td>...</td>\n",
       "      <td>...</td>\n",
       "      <td>...</td>\n",
       "    </tr>\n",
       "    <tr>\n",
       "      <th>66539</th>\n",
       "      <td>27807</td>\n",
       "      <td>R83Q1376</td>\n",
       "      <td>11</td>\n",
       "      <td>NaN</td>\n",
       "      <td>S/O</td>\n",
       "      <td>1/7/1983 12:00:00 AM</td>\n",
       "      <td>1983</td>\n",
       "      <td>1130.0</td>\n",
       "      <td>14.0</td>\n",
       "      <td>NaN</td>\n",
       "      <td>...</td>\n",
       "      <td>NaN</td>\n",
       "      <td>NaN</td>\n",
       "      <td>NaN</td>\n",
       "      <td>NaN</td>\n",
       "      <td>NaN</td>\n",
       "      <td>NaN</td>\n",
       "      <td>NaN</td>\n",
       "      <td>NaN</td>\n",
       "      <td>NaN</td>\n",
       "      <td>NaN</td>\n",
       "    </tr>\n",
       "    <tr>\n",
       "      <th>66549</th>\n",
       "      <td>27797</td>\n",
       "      <td>R83C1575</td>\n",
       "      <td>11</td>\n",
       "      <td>NaN</td>\n",
       "      <td>S/O</td>\n",
       "      <td>1/3/1983 12:00:00 AM</td>\n",
       "      <td>1983</td>\n",
       "      <td>1110.0</td>\n",
       "      <td>14.0</td>\n",
       "      <td>NaN</td>\n",
       "      <td>...</td>\n",
       "      <td>NaN</td>\n",
       "      <td>NaN</td>\n",
       "      <td>NaN</td>\n",
       "      <td>NaN</td>\n",
       "      <td>NaN</td>\n",
       "      <td>NaN</td>\n",
       "      <td>NaN</td>\n",
       "      <td>NaN</td>\n",
       "      <td>NaN</td>\n",
       "      <td>NaN</td>\n",
       "    </tr>\n",
       "    <tr>\n",
       "      <th>66550</th>\n",
       "      <td>27796</td>\n",
       "      <td>R83M0558</td>\n",
       "      <td>11</td>\n",
       "      <td>NaN</td>\n",
       "      <td>S/O</td>\n",
       "      <td>1/3/1983 12:00:00 AM</td>\n",
       "      <td>1983</td>\n",
       "      <td>1552.0</td>\n",
       "      <td>14.0</td>\n",
       "      <td>NaN</td>\n",
       "      <td>...</td>\n",
       "      <td>NaN</td>\n",
       "      <td>NaN</td>\n",
       "      <td>NaN</td>\n",
       "      <td>NaN</td>\n",
       "      <td>NaN</td>\n",
       "      <td>NaN</td>\n",
       "      <td>NaN</td>\n",
       "      <td>NaN</td>\n",
       "      <td>NaN</td>\n",
       "      <td>NaN</td>\n",
       "    </tr>\n",
       "    <tr>\n",
       "      <th>66551</th>\n",
       "      <td>27795</td>\n",
       "      <td>R83M0557</td>\n",
       "      <td>11</td>\n",
       "      <td>NaN</td>\n",
       "      <td>S/O</td>\n",
       "      <td>1/2/1983 12:00:00 AM</td>\n",
       "      <td>1983</td>\n",
       "      <td>1415.0</td>\n",
       "      <td>14.0</td>\n",
       "      <td>NaN</td>\n",
       "      <td>...</td>\n",
       "      <td>NaN</td>\n",
       "      <td>NaN</td>\n",
       "      <td>NaN</td>\n",
       "      <td>NaN</td>\n",
       "      <td>NaN</td>\n",
       "      <td>NaN</td>\n",
       "      <td>NaN</td>\n",
       "      <td>NaN</td>\n",
       "      <td>NaN</td>\n",
       "      <td>NaN</td>\n",
       "    </tr>\n",
       "    <tr>\n",
       "      <th>66552</th>\n",
       "      <td>27794</td>\n",
       "      <td>R83T2980</td>\n",
       "      <td>11</td>\n",
       "      <td>NaN</td>\n",
       "      <td>S/O</td>\n",
       "      <td>1/2/1983 12:00:00 AM</td>\n",
       "      <td>1983</td>\n",
       "      <td>1203.0</td>\n",
       "      <td>14.0</td>\n",
       "      <td>NaN</td>\n",
       "      <td>...</td>\n",
       "      <td>NaN</td>\n",
       "      <td>NaN</td>\n",
       "      <td>NaN</td>\n",
       "      <td>NaN</td>\n",
       "      <td>NaN</td>\n",
       "      <td>NaN</td>\n",
       "      <td>NaN</td>\n",
       "      <td>NaN</td>\n",
       "      <td>NaN</td>\n",
       "      <td>NaN</td>\n",
       "    </tr>\n",
       "  </tbody>\n",
       "</table>\n",
       "<p>13344 rows × 348 columns</p>\n",
       "</div>"
      ],
      "text/plain": [
       "        OccID     OccNo  OccClassID OccClassID_DisplayEng  \\\n",
       "4      133084  R23E0022           5                     5   \n",
       "29     133054  R23T0048           5                     5   \n",
       "33     133050  R23V0046           5                     5   \n",
       "38     133044  R23E0018           5                     5   \n",
       "40     133042  R23E0017           5                     5   \n",
       "...       ...       ...         ...                   ...   \n",
       "66539   27807  R83Q1376          11                   NaN   \n",
       "66549   27797  R83C1575          11                   NaN   \n",
       "66550   27796  R83M0558          11                   NaN   \n",
       "66551   27795  R83M0557          11                   NaN   \n",
       "66552   27794  R83T2980          11                   NaN   \n",
       "\n",
       "      OccClassID_DisplayFre                OccDate  OccYear  OccTime  \\\n",
       "4                         5    3/8/2023 9:30:00 PM     2023   2130.0   \n",
       "29                        5    3/2/2023 8:31:00 AM     2023    831.0   \n",
       "33                        5   2/27/2023 8:00:00 AM     2023    800.0   \n",
       "38                        5  2/26/2023 10:40:00 PM     2023   2240.0   \n",
       "40                        5  2/26/2023 12:45:00 PM     2023   1245.0   \n",
       "...                     ...                    ...      ...      ...   \n",
       "66539                   S/O   1/7/1983 12:00:00 AM     1983   1130.0   \n",
       "66549                   S/O   1/3/1983 12:00:00 AM     1983   1110.0   \n",
       "66550                   S/O   1/3/1983 12:00:00 AM     1983   1552.0   \n",
       "66551                   S/O   1/2/1983 12:00:00 AM     1983   1415.0   \n",
       "66552                   S/O   1/2/1983 12:00:00 AM     1983   1203.0   \n",
       "\n",
       "       TimeZoneID TimeZoneID_DisplayEng  ... SignConditionID_DisplayEng  \\\n",
       "4            10.0                   MST  ...                        NaN   \n",
       "29            2.0                   EST  ...                        NaN   \n",
       "33            7.0                   PST  ...                        NaN   \n",
       "38           10.0                   MST  ...                        NaN   \n",
       "40           10.0                   MST  ...                        NaN   \n",
       "...           ...                   ...  ...                        ...   \n",
       "66539        14.0                   NaN  ...                        NaN   \n",
       "66549        14.0                   NaN  ...                        NaN   \n",
       "66550        14.0                   NaN  ...                        NaN   \n",
       "66551        14.0                   NaN  ...                        NaN   \n",
       "66552        14.0                   NaN  ...                        NaN   \n",
       "\n",
       "       SignConditionID_DisplayFre PointOfEntryID PointOfEntryID_DisplayEng  \\\n",
       "4                             NaN            NaN                       NaN   \n",
       "29                            NaN            NaN                       NaN   \n",
       "33                            NaN            NaN                       NaN   \n",
       "38                            NaN            NaN                       NaN   \n",
       "40                            NaN            NaN                       NaN   \n",
       "...                           ...            ...                       ...   \n",
       "66539                         NaN            NaN                       NaN   \n",
       "66549                         NaN            NaN                       NaN   \n",
       "66550                         NaN            NaN                       NaN   \n",
       "66551                         NaN            NaN                       NaN   \n",
       "66552                         NaN            NaN                       NaN   \n",
       "\n",
       "       PointOfEntryID_DisplayFre DistanceToCrossing_Miles  \\\n",
       "4                            NaN                      NaN   \n",
       "29                           NaN                      NaN   \n",
       "33                           NaN                      NaN   \n",
       "38                           NaN                      NaN   \n",
       "40                           NaN                      NaN   \n",
       "...                          ...                      ...   \n",
       "66539                        NaN                      NaN   \n",
       "66549                        NaN                      NaN   \n",
       "66550                        NaN                      NaN   \n",
       "66551                        NaN                      NaN   \n",
       "66552                        NaN                      NaN   \n",
       "\n",
       "      TrespasserVehicleInvolvedInd  TrespasserVehicleTypeID  \\\n",
       "4                              NaN                      NaN   \n",
       "29                             NaN                      NaN   \n",
       "33                             NaN                      NaN   \n",
       "38                             NaN                      NaN   \n",
       "40                             NaN                      NaN   \n",
       "...                            ...                      ...   \n",
       "66539                          NaN                      NaN   \n",
       "66549                          NaN                      NaN   \n",
       "66550                          NaN                      NaN   \n",
       "66551                          NaN                      NaN   \n",
       "66552                          NaN                      NaN   \n",
       "\n",
       "      TrespasserVehicleTypeDisplayEng TrespasserVehicleTypeDisplayFre  \n",
       "4                                 NaN                             NaN  \n",
       "29                                NaN                             NaN  \n",
       "33                                NaN                             NaN  \n",
       "38                                NaN                             NaN  \n",
       "40                                NaN                             NaN  \n",
       "...                               ...                             ...  \n",
       "66539                             NaN                             NaN  \n",
       "66549                             NaN                             NaN  \n",
       "66550                             NaN                             NaN  \n",
       "66551                             NaN                             NaN  \n",
       "66552                             NaN                             NaN  \n",
       "\n",
       "[13344 rows x 348 columns]"
      ]
     },
     "execution_count": 10,
     "metadata": {},
     "output_type": "execute_result"
    }
   ],
   "source": [
    "df_occurrences['AccIncTypeID_DisplayEng'].value_counts()\n",
    "df_crossing = df_occurrences[df_occurrences['AccIncTypeID_DisplayEng']=='CROSSING']\n",
    "df_crossing"
   ]
  },
  {
   "cell_type": "code",
   "execution_count": 11,
   "metadata": {},
   "outputs": [],
   "source": [
    "df_occurrences['OccDate'] = pd.to_datetime(df_occurrences['OccDate'])"
   ]
  },
  {
   "cell_type": "code",
   "execution_count": 12,
   "metadata": {},
   "outputs": [],
   "source": [
    "df_occurrences['Year'] = df_occurrences['OccDate'].dt.year\n",
    "df_occurrences['Month']= df_occurrences['OccDate'].dt.month"
   ]
  },
  {
   "cell_type": "code",
   "execution_count": 13,
   "metadata": {},
   "outputs": [],
   "source": [
    "# looking at the past 20 years\n",
    "\n",
    "year_set = set()\n",
    "for i in range(2010,2023):\n",
    "    year_set.add(i)\n",
    "df_occurrences['Count'] = 1\n",
    "df_count = df_occurrences[df_occurrences['Year'].isin(year_set)]"
   ]
  },
  {
   "cell_type": "code",
   "execution_count": 14,
   "metadata": {},
   "outputs": [
    {
     "data": {
      "text/plain": [
       "<AxesSubplot: xlabel='Year'>"
      ]
     },
     "execution_count": 14,
     "metadata": {},
     "output_type": "execute_result"
    },
    {
     "data": {
      "image/png": "[encoded data removed]",
      "text/plain": [
       "<Figure size 640x480 with 1 Axes>"
      ]
     },
     "metadata": {},
     "output_type": "display_data"
    }
   ],
   "source": [
    "# quick plot to show number of accidents in the last 20 years\n",
    "year_groupby = df_count.groupby(by='Year').count()\n",
    "year_groupby['Count'].plot()\n"
   ]
  },
  {
   "cell_type": "markdown",
   "metadata": {},
   "source": [
    "Examining the csvs i found that the grade crossing data set nd the occurrence dataset have a key that can tie them together (TC number)"
   ]
  },
  {
   "cell_type": "code",
   "execution_count": 15,
   "metadata": {},
   "outputs": [
    {
     "name": "stderr",
     "output_type": "stream",
     "text": [
      "C:\\Users\\Cian-work\\AppData\\Local\\Temp\\ipykernel_2196\\1823827256.py:2: SettingWithCopyWarning: \n",
      "A value is trying to be set on a copy of a slice from a DataFrame.\n",
      "Try using .loc[row_indexer,col_indexer] = value instead\n",
      "\n",
      "See the caveats in the documentation: https://pandas.pydata.org/pandas-docs/stable/user_guide/indexing.html#returning-a-view-versus-a-copy\n",
      "  df_crossing['TC Number'] = df_crossing['TCNo']\n"
     ]
    }
   ],
   "source": [
    "# renaming so i can merge them\n",
    "df_crossing['TC Number'] = df_crossing['TCNo']"
   ]
  },
  {
   "cell_type": "code",
   "execution_count": 16,
   "metadata": {},
   "outputs": [
    {
     "name": "stderr",
     "output_type": "stream",
     "text": [
      "C:\\Users\\Cian-work\\AppData\\Local\\Temp\\ipykernel_2196\\968878244.py:1: SettingWithCopyWarning: \n",
      "A value is trying to be set on a copy of a slice from a DataFrame.\n",
      "Try using .loc[row_indexer,col_indexer] = value instead\n",
      "\n",
      "See the caveats in the documentation: https://pandas.pydata.org/pandas-docs/stable/user_guide/indexing.html#returning-a-view-versus-a-copy\n",
      "  df_crossing['TC Number'] = df_crossing['TC Number'].astype(str)\n"
     ]
    }
   ],
   "source": [
    "df_crossing['TC Number'] = df_crossing['TC Number'].astype(str)\n",
    "df_gc['TC Number'] = df_gc['TC Number'].astype(str)"
   ]
  },
  {
   "cell_type": "markdown",
   "metadata": {},
   "source": [
    "### merging "
   ]
  },
  {
   "cell_type": "code",
   "execution_count": 17,
   "metadata": {},
   "outputs": [],
   "source": [
    "df_crossing_with_grade = pd.merge(df_crossing,df_gc,how='left',on=['TC Number','TC Number'])"
   ]
  },
  {
   "cell_type": "markdown",
   "metadata": {},
   "source": [
    "Examinging potential features to see how many nulls are in present"
   ]
  },
  {
   "cell_type": "code",
   "execution_count": 18,
   "metadata": {},
   "outputs": [
    {
     "data": {
      "text/plain": [
       "3109"
      ]
     },
     "execution_count": 18,
     "metadata": {},
     "output_type": "execute_result"
    }
   ],
   "source": [
    "df_crossing_with_grade['Trains Daily'].isnull().sum()"
   ]
  },
  {
   "cell_type": "code",
   "execution_count": 19,
   "metadata": {},
   "outputs": [
    {
     "data": {
      "text/plain": [
       "434"
      ]
     },
     "execution_count": 19,
     "metadata": {},
     "output_type": "execute_result"
    }
   ],
   "source": [
    "df_train['TrainOperatorID'].isnull().sum()\n",
    "# keep"
   ]
  },
  {
   "cell_type": "code",
   "execution_count": 20,
   "metadata": {},
   "outputs": [
    {
     "data": {
      "text/plain": [
       "48170"
      ]
     },
     "execution_count": 20,
     "metadata": {},
     "output_type": "execute_result"
    }
   ],
   "source": [
    "df_train['MaxSubSpeed_MPH'].isnull().sum()\n",
    "# drop"
   ]
  },
  {
   "cell_type": "code",
   "execution_count": 21,
   "metadata": {},
   "outputs": [
    {
     "data": {
      "text/plain": [
       "11638"
      ]
     },
     "execution_count": 21,
     "metadata": {},
     "output_type": "execute_result"
    }
   ],
   "source": [
    "df_train['ApproxTrainSpeed_MPH'].isnull().sum()\n",
    "# drop"
   ]
  },
  {
   "cell_type": "code",
   "execution_count": 22,
   "metadata": {},
   "outputs": [
    {
     "data": {
      "text/plain": [
       "36146"
      ]
     },
     "execution_count": 22,
     "metadata": {},
     "output_type": "execute_result"
    }
   ],
   "source": [
    "df_train['MethodTrainControlID'].isnull().sum()\n",
    "# drop"
   ]
  },
  {
   "cell_type": "code",
   "execution_count": 23,
   "metadata": {},
   "outputs": [
    {
     "data": {
      "text/plain": [
       "17973"
      ]
     },
     "execution_count": 23,
     "metadata": {},
     "output_type": "execute_result"
    }
   ],
   "source": [
    "df_train['NumCars'].isnull().sum()\n",
    "# drop"
   ]
  },
  {
   "cell_type": "code",
   "execution_count": 24,
   "metadata": {},
   "outputs": [
    {
     "data": {
      "text/plain": [
       "22524"
      ]
     },
     "execution_count": 24,
     "metadata": {},
     "output_type": "execute_result"
    }
   ],
   "source": [
    "df_train['TrainLength_Feet'].isnull().sum()\n",
    "# really wanted this one\n",
    "# drop"
   ]
  },
  {
   "cell_type": "code",
   "execution_count": 25,
   "metadata": {},
   "outputs": [
    {
     "data": {
      "text/plain": [
       "7707"
      ]
     },
     "execution_count": 25,
     "metadata": {},
     "output_type": "execute_result"
    }
   ],
   "source": [
    "df_train['TrainTonnage'].isnull().sum()\n",
    "# might keep"
   ]
  },
  {
   "cell_type": "code",
   "execution_count": 26,
   "metadata": {},
   "outputs": [],
   "source": [
    "def remove_duplicates_from_list(a_list):\n",
    "    '''pass in a list\n",
    "    return a list with duplicates removed'''\n",
    "    return list(dict.fromkeys(a_list))"
   ]
  },
  {
   "cell_type": "code",
   "execution_count": 27,
   "metadata": {},
   "outputs": [],
   "source": [
    "########################\n",
    "# This is only from the Train, Occ, etc DFs not the GC dfs\n",
    "# After examining the csvs and the 700 potential features present i created a list\n",
    "# These are the initial set of features which might prove useful\n",
    "\n",
    "intial_feature_list=['AccIncTypeID','AccIncTypeID_DisplayEng','CarLoadStatusID','CarLoadStatusID_DisplayEng',\n",
    "                     'CollisionAfterDerailIND','CollistionTypeID','CollistionTypeID_DisplayEng','LastOverhaulDate',\n",
    "                     'Latitude','Longitude','ManufacturedDate','Manufacturer','Model','NumberTrainsInvolved','OccDate',\n",
    "                     'OccID','OccID','OccID','OccID','OccID','OccNo','OccNo','OccNo','OccNo','OccNo','OccurrenceTypeID',\n",
    "                     'OccurrenceTypeID_DisplayEng','PartNameID','PartNameID_DisplayEng','RegionOfOccurrence',\n",
    "                     'RegionOfOccurrence_DisplayEng','RiskOfCollisionIND','RollingStock','RollingStock','RollingStockTypeID',\n",
    "                     'RollingStockTypeID_DisplayEng','SUBD_OWNER_ABBREV_ENG','SubdEndMileage','SubdMileage','SubdNameID',\n",
    "                     'SubdNameID_DisplayEng','SubdOwnerID','SubdOwnerID_DisplayEng','SubdStartMileage','Summary',\n",
    "                     'SuspectedComponentFailureIND','TimetableDirID','TimetableDirID_DisplayEng','TrackTypeID',\n",
    "                     'TrackTypeID_DisplayEng','TrainOperatorID','TrainOperatorID_DisplayEng','YardNameID',\n",
    "                     'YardNameID_DisplayEng','YardOwnerID','YardOwnerID_DisplayEng','YardTypeID','YardTypeID_DisplayEng',]"
   ]
  },
  {
   "cell_type": "code",
   "execution_count": 28,
   "metadata": {},
   "outputs": [],
   "source": [
    "# removing duplicates\n",
    "intial_feature_list = remove_duplicates_from_list(intial_feature_list)\n",
    "# adding all the columns from the grade crossing inventory\n",
    "gc_cols = list(df_gc.columns.values)\n",
    "# adding all those features to the initial feature list\n",
    "intial_feature_list = intial_feature_list+gc_cols"
   ]
  },
  {
   "cell_type": "code",
   "execution_count": null,
   "metadata": {},
   "outputs": [],
   "source": [
    "\n"
   ]
  },
  {
   "cell_type": "code",
   "execution_count": 29,
   "metadata": {},
   "outputs": [],
   "source": [
    "# dropping around 1000 rows that don't have a suitable TC Number\n",
    "df_crossing_with_grade['TC Number'] = df_crossing_with_grade['TC Number'].apply(pd.to_numeric, errors='coerce')\n",
    "df_dropped = df_crossing_with_grade.dropna(subset=['TC Number'])"
   ]
  },
  {
   "cell_type": "code",
   "execution_count": 30,
   "metadata": {},
   "outputs": [],
   "source": [
    "df_dropped = df_dropped.filter(intial_feature_list)"
   ]
  },
  {
   "cell_type": "code",
   "execution_count": 31,
   "metadata": {},
   "outputs": [
    {
     "name": "stdout",
     "output_type": "stream",
     "text": [
      "<class 'pandas.core.frame.DataFrame'>\n",
      "Int64Index: 12253 entries, 0 to 13340\n",
      "Data columns (total 55 columns):\n",
      " #   Column                         Non-Null Count  Dtype  \n",
      "---  ------                         --------------  -----  \n",
      " 0   AccIncTypeID                   12253 non-null  int64  \n",
      " 1   AccIncTypeID_DisplayEng        12253 non-null  object \n",
      " 2   CollisionAfterDerailIND        3213 non-null   float64\n",
      " 3   CollistionTypeID               1 non-null      float64\n",
      " 4   CollistionTypeID_DisplayEng    1 non-null      object \n",
      " 5   NumberTrainsInvolved           12249 non-null  float64\n",
      " 6   OccDate                        12253 non-null  object \n",
      " 7   OccID                          12253 non-null  int64  \n",
      " 8   OccNo                          12253 non-null  object \n",
      " 9   OccurrenceTypeID               12253 non-null  int64  \n",
      " 10  OccurrenceTypeID_DisplayEng    12253 non-null  object \n",
      " 11  RegionOfOccurrence             12253 non-null  float64\n",
      " 12  RegionOfOccurrence_DisplayEng  8580 non-null   object \n",
      " 13  RiskOfCollisionIND             1337 non-null   float64\n",
      " 14  SUBD_OWNER_ABBREV_ENG          11394 non-null  object \n",
      " 15  SubdEndMileage                 12253 non-null  float64\n",
      " 16  SubdMileage                    12253 non-null  float64\n",
      " 17  SubdNameID                     12253 non-null  int64  \n",
      " 18  SubdNameID_DisplayEng          12253 non-null  object \n",
      " 19  SubdOwnerID                    12253 non-null  int64  \n",
      " 20  SubdOwnerID_DisplayEng         12253 non-null  object \n",
      " 21  SubdStartMileage               12253 non-null  float64\n",
      " 22  Summary                        10944 non-null  object \n",
      " 23  TrackTypeID                    8202 non-null   float64\n",
      " 24  TrackTypeID_DisplayEng         8202 non-null   object \n",
      " 25  YardNameID                     204 non-null    float64\n",
      " 26  YardNameID_DisplayEng          204 non-null    object \n",
      " 27  YardOwnerID                    310 non-null    float64\n",
      " 28  YardOwnerID_DisplayEng         307 non-null    object \n",
      " 29  YardTypeID                     214 non-null    float64\n",
      " 30  YardTypeID_DisplayEng          214 non-null    object \n",
      " 31  Rank                           10235 non-null  float64\n",
      " 32  TC Number                      12253 non-null  float64\n",
      " 33  Railway                        10235 non-null  object \n",
      " 34  Region                         10235 non-null  object \n",
      " 35  Province                       10235 non-null  object \n",
      " 36  Access                         10235 non-null  object \n",
      " 37  Regulator                      10235 non-null  object \n",
      " 38  Mile                           10235 non-null  float64\n",
      " 39  Subdivision                    10235 non-null  object \n",
      " 40  Spur Mile Point                1195 non-null   float64\n",
      " 41  Spur Name                      1195 non-null   object \n",
      " 42  Location                       10030 non-null  object \n",
      " 43  Road  Authority                10215 non-null  object \n",
      " 44  Protection                     10235 non-null  object \n",
      " 45  Accident                       10235 non-null  float64\n",
      " 46  Fatality                       10235 non-null  float64\n",
      " 47  Injury                         10235 non-null  float64\n",
      " 48  Trains Daily                   10235 non-null  float64\n",
      " 49  Vehicles Daily                 10187 non-null  float64\n",
      " 50  Train Max Speed (mph)          9920 non-null   float64\n",
      " 51  Road Max Speed (km/h)          10185 non-null  float64\n",
      " 52  Lanes                          10235 non-null  float64\n",
      " 53  Tracks                         10235 non-null  float64\n",
      " 54  IsUrban                        10235 non-null  object \n",
      "dtypes: float64(25), int64(5), object(25)\n",
      "memory usage: 5.2+ MB\n"
     ]
    }
   ],
   "source": [
    "df_dropped.info()"
   ]
  },
  {
   "cell_type": "code",
   "execution_count": 32,
   "metadata": {},
   "outputs": [
    {
     "data": {
      "text/plain": [
       "NON-MAIN-TRACK TRAIN DERAILMENT                                19227\n",
       "CROSSING                                                       13344\n",
       "DG LEAKER                                                       8084\n",
       "MAIN-TRACK TRAIN DERAILMENT                                     6807\n",
       "NON-MAIN-TRACK TRAIN COLLISION                                  4242\n",
       "MOVEMENT EXCEEDS LIMITS OF AUTHORITY                            3552\n",
       "TRESPASSER                                                      3400\n",
       "FIRE ON-BOARD R/S                                               1118\n",
       "COLLISION INVOLVING TRACK UNIT                                   922\n",
       "NON-MAIN-TRACK TRAIN DERAILMENT (NO DAMAGE)                      819\n",
       "R/S COLL. WITH OBJECT                                            596\n",
       "R/S DAMAGE WITHOUT DERAIL./COLL.                                 563\n",
       "HISTORICAL                                                       563\n",
       "EMPLOYEE                                                         544\n",
       "MAIN-TRACK TRAIN COLLISION                                       437\n",
       "UNCONTROLLED MOVEMENT OF R/S                                     423\n",
       "DERAILMENT INVOLVING TRACK UNIT                                  355\n",
       "FIRE ON RAILWAY RIGHT-OF-WAY                                     331\n",
       "MAIN-TRACK SWITCH IN ABNORMAL POSITION                           311\n",
       "UNPROTECTED OVERLAP OF AUTHORITIES                               284\n",
       "R/S COLL. WITH ABANDONED VEHICLE                                 144\n",
       "PASSENGER                                                        144\n",
       "SIGNAL LESS RESTRICTIVE THAN REQUIRED                            100\n",
       "DERAILMENT INVOLVING TRACK UNIT (NO DAMAGE)                       66\n",
       "CREW MEMBER INCAPACITATED                                         54\n",
       "R/S COLL. WITH OBJECT (NO DERAILMENT, NO DAMAGE)                  48\n",
       "NON-MAIN-TRACK TRAIN COLLISION (NO DERAILMENT, NO DAMAGE)         29\n",
       "MAIN-TRACK TRAIN DERAILMENT (NO DAMAGE)                           24\n",
       "R/S COLL. WITH ABANDONED VEHICLE (NO DERAILMENT, NO DAMAGE)       14\n",
       "COMPONENT FAILURE THAT AFFECTS SAFE OPERATION OF R/S               5\n",
       "EXPLOSION                                                          3\n",
       "Name: AccIncTypeID_DisplayEng, dtype: int64"
      ]
     },
     "execution_count": 32,
     "metadata": {},
     "output_type": "execute_result"
    }
   ],
   "source": [
    "accident_count = df_gc['Accident'].astype(int)\n",
    "accident_count.value_counts()\n",
    "df_occurrences['AccIncTypeID_DisplayEng'].value_counts()"
   ]
  }
 ],
 "metadata": {
  "kernelspec": {
   "display_name": "base",
   "language": "python",
   "name": "python3"
  },
  "language_info": {
   "codemirror_mode": {
    "name": "ipython",
    "version": 3
   },
   "file_extension": ".py",
   "mimetype": "text/x-python",
   "name": "python",
   "nbconvert_exporter": "python",
   "pygments_lexer": "ipython3",
   "version": "3.9.16"
  },
  "orig_nbformat": 4,
  "vscode": {
   "interpreter": {
    "hash": "ad2bdc8ecc057115af97d19610ffacc2b4e99fae6737bb82f5d7fb13d2f2c186"
   }
  }
 },
 "nbformat": 4,
 "nbformat_minor": 2
}
